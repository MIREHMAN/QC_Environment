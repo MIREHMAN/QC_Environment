{
 "cells": [
  {
   "cell_type": "code",
   "execution_count": 2,
   "metadata": {},
   "outputs": [],
   "source": [
    "from qiskit import QuantumCircuit\n",
    "from qiskit_aer import AerSimulator\n",
    "from qiskit.quantum_info import Statevector\n",
    "import numpy as np\n",
    "import networkx as nx"
   ]
  },
  {
   "cell_type": "code",
   "execution_count": 3,
   "metadata": {},
   "outputs": [],
   "source": [
    "def map_coloring(graph, colors):\n",
    "    valid_colorings = []\n",
    "    for coloring in np.ndindex(*([colors] * len(graph))):\n",
    "        valid = True\n",
    "        for edge in graph.edges():\n",
    "            if coloring[edge[0]] == coloring[edge[1]]:\n",
    "                valid = False\n",
    "                break\n",
    "        if valid:\n",
    "            valid_colorings.append(coloring)\n",
    "    return valid_colorings"
   ]
  },
  {
   "cell_type": "code",
   "execution_count": 7,
   "metadata": {},
   "outputs": [],
   "source": [
    "def grover_search_oracle(graph, colors):\n",
    "    num_qubits = len(graph) * 2  # 2 qubits per vertex\n",
    "    qc = QuantumCircuit(num_qubits)\n",
    "\n",
    "    # State preparation\n",
    "    qc.h(range(num_qubits))\n",
    "\n",
    "    # Oracle\n",
    "    for edge in graph.edges():\n",
    "        qc.ccx(2 * edge[0], 2 * edge[1], num_qubits)\n",
    "        qc.x(num_qubits)\n",
    "        qc.ccx(2 * edge[0], 2 * edge[1], num_qubits)\n",
    "        qc.x(num_qubits)\n",
    "\n",
    "    # Diffusion operator\n",
    "    qc.h(range(num_qubits))\n",
    "    qc.x(range(num_qubits))\n",
    "    qc.h(range(num_qubits))\n",
    "    qc.barrier()\n",
    "\n",
    "    # Measurement\n",
    "    qc.measure(range(num_qubits), range(num_qubits))\n",
    "\n",
    "    # Simulation\n",
    "    backend=AerSimulator()\n",
    "    job=backend.run(qc) # Add this line to run the circuit\n",
    "    result=job.result()\n",
    "    counts = result.get_counts()\n",
    "\n",
    "    return counts\n",
    "\n"
   ]
  },
  {
   "cell_type": "code",
   "execution_count": 8,
   "metadata": {},
   "outputs": [],
   "source": [
    "### Approach 2: Modified Search Space\n",
    "\n",
    "def grover_search_modified(graph, colors):\n",
    "    num_qubits = len(graph)  # 1 qubit per vertex (3 colors)\n",
    "    qc = QuantumCircuit(num_qubits)\n",
    "\n",
    "    # State preparation\n",
    "    qc.ry(np.pi/3, range(num_qubits))  # Prepare 3-color state\n",
    "\n",
    "    # Oracle (unchanged)\n",
    "    for edge in graph.edges():\n",
    "        qc.cphase(np.pi, edge[0], edge[1])\n",
    "\n",
    "    # Diffusion operator\n",
    "    qc.ry(np.pi/3, range(num_qubits))\n",
    "    qc.x(range(num_qubits))\n",
    "    qc.ry(np.pi/3, range(num_qubits))\n",
    "    qc.barrier()\n",
    "\n",
    "    # Measurement\n",
    "    qc.measure(range(num_qubits), range(num_qubits))\n",
    "\n",
    "    # Simulation\n",
    "    backend=AerSimulator()\n",
    "    job=backend.run(qc) # Add this line to run the circuit\n",
    "    result=job.result()\n",
    "    counts = result.get_counts()\n",
    "\n",
    "    return counts"
   ]
  },
  {
   "cell_type": "code",
   "execution_count": 9,
   "metadata": {},
   "outputs": [
    {
     "ename": "CircuitError",
     "evalue": "'Index 16 out of range for size 16.'",
     "output_type": "error",
     "traceback": [
      "\u001b[1;31m---------------------------------------------------------------------------\u001b[0m",
      "\u001b[1;31mIndexError\u001b[0m                                Traceback (most recent call last)",
      "File \u001b[1;32mc:\\malik inam\\QC Environment\\.venv\\Lib\\site-packages\\qiskit\\circuit\\quantumcircuit.py:6749\u001b[0m, in \u001b[0;36m_bit_argument_conversion\u001b[1;34m(specifier, bit_sequence, bit_set, type_)\u001b[0m\n\u001b[0;32m   6748\u001b[0m \u001b[38;5;28;01mtry\u001b[39;00m:\n\u001b[1;32m-> 6749\u001b[0m     \u001b[38;5;28;01mreturn\u001b[39;00m [\u001b[43mbit_sequence\u001b[49m\u001b[43m[\u001b[49m\u001b[43mspecifier\u001b[49m\u001b[43m]\u001b[49m]\n\u001b[0;32m   6750\u001b[0m \u001b[38;5;28;01mexcept\u001b[39;00m \u001b[38;5;167;01mIndexError\u001b[39;00m \u001b[38;5;28;01mas\u001b[39;00m ex:\n",
      "\u001b[1;31mIndexError\u001b[0m: list index out of range",
      "\nThe above exception was the direct cause of the following exception:\n",
      "\u001b[1;31mCircuitError\u001b[0m                              Traceback (most recent call last)",
      "Cell \u001b[1;32mIn[9], line 13\u001b[0m\n\u001b[0;32m     10\u001b[0m valid_colorings_spain \u001b[38;5;241m=\u001b[39m map_coloring(G_spain, \u001b[38;5;241m3\u001b[39m)\n\u001b[0;32m     12\u001b[0m \u001b[38;5;66;03m# Run Grover's search\u001b[39;00m\n\u001b[1;32m---> 13\u001b[0m counts_australia_oracle \u001b[38;5;241m=\u001b[39m \u001b[43mgrover_search_oracle\u001b[49m\u001b[43m(\u001b[49m\u001b[43mG_australia\u001b[49m\u001b[43m,\u001b[49m\u001b[43m \u001b[49m\u001b[38;5;241;43m3\u001b[39;49m\u001b[43m)\u001b[49m\n\u001b[0;32m     14\u001b[0m counts_spain_oracle \u001b[38;5;241m=\u001b[39m grover_search_oracle(G_spain, \u001b[38;5;241m3\u001b[39m)\n\u001b[0;32m     16\u001b[0m counts_australia_modified \u001b[38;5;241m=\u001b[39m grover_search_modified(G_australia, \u001b[38;5;241m3\u001b[39m)\n",
      "Cell \u001b[1;32mIn[7], line 10\u001b[0m, in \u001b[0;36mgrover_search_oracle\u001b[1;34m(graph, colors)\u001b[0m\n\u001b[0;32m      8\u001b[0m \u001b[38;5;66;03m# Oracle\u001b[39;00m\n\u001b[0;32m      9\u001b[0m \u001b[38;5;28;01mfor\u001b[39;00m edge \u001b[38;5;129;01min\u001b[39;00m graph\u001b[38;5;241m.\u001b[39medges():\n\u001b[1;32m---> 10\u001b[0m     \u001b[43mqc\u001b[49m\u001b[38;5;241;43m.\u001b[39;49m\u001b[43mccx\u001b[49m\u001b[43m(\u001b[49m\u001b[38;5;241;43m2\u001b[39;49m\u001b[43m \u001b[49m\u001b[38;5;241;43m*\u001b[39;49m\u001b[43m \u001b[49m\u001b[43medge\u001b[49m\u001b[43m[\u001b[49m\u001b[38;5;241;43m0\u001b[39;49m\u001b[43m]\u001b[49m\u001b[43m,\u001b[49m\u001b[43m \u001b[49m\u001b[38;5;241;43m2\u001b[39;49m\u001b[43m \u001b[49m\u001b[38;5;241;43m*\u001b[39;49m\u001b[43m \u001b[49m\u001b[43medge\u001b[49m\u001b[43m[\u001b[49m\u001b[38;5;241;43m1\u001b[39;49m\u001b[43m]\u001b[49m\u001b[43m,\u001b[49m\u001b[43m \u001b[49m\u001b[43mnum_qubits\u001b[49m\u001b[43m)\u001b[49m\n\u001b[0;32m     11\u001b[0m     qc\u001b[38;5;241m.\u001b[39mx(num_qubits)\n\u001b[0;32m     12\u001b[0m     qc\u001b[38;5;241m.\u001b[39mccx(\u001b[38;5;241m2\u001b[39m \u001b[38;5;241m*\u001b[39m edge[\u001b[38;5;241m0\u001b[39m], \u001b[38;5;241m2\u001b[39m \u001b[38;5;241m*\u001b[39m edge[\u001b[38;5;241m1\u001b[39m], num_qubits)\n",
      "File \u001b[1;32mc:\\malik inam\\QC Environment\\.venv\\Lib\\site-packages\\qiskit\\circuit\\quantumcircuit.py:5381\u001b[0m, in \u001b[0;36mQuantumCircuit.ccx\u001b[1;34m(self, control_qubit1, control_qubit2, target_qubit, ctrl_state)\u001b[0m\n\u001b[0;32m   5379\u001b[0m \u001b[38;5;66;03m# if the control state is |11> use the fast Rust version of the gate\u001b[39;00m\n\u001b[0;32m   5380\u001b[0m \u001b[38;5;28;01mif\u001b[39;00m ctrl_state \u001b[38;5;129;01mis\u001b[39;00m \u001b[38;5;28;01mNone\u001b[39;00m \u001b[38;5;129;01mor\u001b[39;00m ctrl_state \u001b[38;5;129;01min\u001b[39;00m [\u001b[38;5;124m\"\u001b[39m\u001b[38;5;124m11\u001b[39m\u001b[38;5;124m\"\u001b[39m, \u001b[38;5;241m3\u001b[39m]:\n\u001b[1;32m-> 5381\u001b[0m     \u001b[38;5;28;01mreturn\u001b[39;00m \u001b[38;5;28;43mself\u001b[39;49m\u001b[38;5;241;43m.\u001b[39;49m\u001b[43m_append_standard_gate\u001b[49m\u001b[43m(\u001b[49m\n\u001b[0;32m   5382\u001b[0m \u001b[43m        \u001b[49m\u001b[43mStandardGate\u001b[49m\u001b[38;5;241;43m.\u001b[39;49m\u001b[43mCCXGate\u001b[49m\u001b[43m,\u001b[49m\n\u001b[0;32m   5383\u001b[0m \u001b[43m        \u001b[49m\u001b[43m[\u001b[49m\u001b[43mcontrol_qubit1\u001b[49m\u001b[43m,\u001b[49m\u001b[43m \u001b[49m\u001b[43mcontrol_qubit2\u001b[49m\u001b[43m,\u001b[49m\u001b[43m \u001b[49m\u001b[43mtarget_qubit\u001b[49m\u001b[43m]\u001b[49m\u001b[43m,\u001b[49m\n\u001b[0;32m   5384\u001b[0m \u001b[43m        \u001b[49m\u001b[43m(\u001b[49m\u001b[43m)\u001b[49m\u001b[43m,\u001b[49m\n\u001b[0;32m   5385\u001b[0m \u001b[43m    \u001b[49m\u001b[43m)\u001b[49m\n\u001b[0;32m   5387\u001b[0m \u001b[38;5;28;01mfrom\u001b[39;00m \u001b[38;5;21;01m.\u001b[39;00m\u001b[38;5;21;01mlibrary\u001b[39;00m\u001b[38;5;21;01m.\u001b[39;00m\u001b[38;5;21;01mstandard_gates\u001b[39;00m\u001b[38;5;21;01m.\u001b[39;00m\u001b[38;5;21;01mx\u001b[39;00m \u001b[38;5;28;01mimport\u001b[39;00m CCXGate\n\u001b[0;32m   5389\u001b[0m \u001b[38;5;28;01mreturn\u001b[39;00m \u001b[38;5;28mself\u001b[39m\u001b[38;5;241m.\u001b[39mappend(\n\u001b[0;32m   5390\u001b[0m     CCXGate(ctrl_state\u001b[38;5;241m=\u001b[39mctrl_state),\n\u001b[0;32m   5391\u001b[0m     [control_qubit1, control_qubit2, target_qubit],\n\u001b[0;32m   5392\u001b[0m     [],\n\u001b[0;32m   5393\u001b[0m     copy\u001b[38;5;241m=\u001b[39m\u001b[38;5;28;01mFalse\u001b[39;00m,\n\u001b[0;32m   5394\u001b[0m )\n",
      "File \u001b[1;32mc:\\malik inam\\QC Environment\\.venv\\Lib\\site-packages\\qiskit\\circuit\\quantumcircuit.py:2418\u001b[0m, in \u001b[0;36mQuantumCircuit._append_standard_gate\u001b[1;34m(self, op, qargs, params, label)\u001b[0m\n\u001b[0;32m   2415\u001b[0m \u001b[38;5;28;01mif\u001b[39;00m params \u001b[38;5;129;01mis\u001b[39;00m \u001b[38;5;28;01mNone\u001b[39;00m:\n\u001b[0;32m   2416\u001b[0m     params \u001b[38;5;241m=\u001b[39m []\n\u001b[1;32m-> 2418\u001b[0m expanded_qargs \u001b[38;5;241m=\u001b[39m [\u001b[38;5;28;43mself\u001b[39;49m\u001b[38;5;241;43m.\u001b[39;49m\u001b[43m_qbit_argument_conversion\u001b[49m\u001b[43m(\u001b[49m\u001b[43mqarg\u001b[49m\u001b[43m)\u001b[49m \u001b[38;5;28;01mfor\u001b[39;00m qarg \u001b[38;5;129;01min\u001b[39;00m qargs \u001b[38;5;129;01mor\u001b[39;00m []]\n\u001b[0;32m   2419\u001b[0m \u001b[38;5;28;01mfor\u001b[39;00m param \u001b[38;5;129;01min\u001b[39;00m params:\n\u001b[0;32m   2420\u001b[0m     Gate\u001b[38;5;241m.\u001b[39mvalidate_parameter(op, param)\n",
      "File \u001b[1;32mc:\\malik inam\\QC Environment\\.venv\\Lib\\site-packages\\qiskit\\circuit\\quantumcircuit.py:2367\u001b[0m, in \u001b[0;36mQuantumCircuit._qbit_argument_conversion\u001b[1;34m(self, qubit_representation)\u001b[0m\n\u001b[0;32m   2356\u001b[0m \u001b[38;5;28;01mdef\u001b[39;00m \u001b[38;5;21m_qbit_argument_conversion\u001b[39m(\u001b[38;5;28mself\u001b[39m, qubit_representation: QubitSpecifier) \u001b[38;5;241m-\u001b[39m\u001b[38;5;241m>\u001b[39m \u001b[38;5;28mlist\u001b[39m[Qubit]:\n\u001b[0;32m   2357\u001b[0m \u001b[38;5;250m    \u001b[39m\u001b[38;5;124;03m\"\"\"\u001b[39;00m\n\u001b[0;32m   2358\u001b[0m \u001b[38;5;124;03m    Converts several qubit representations (such as indexes, range, etc.)\u001b[39;00m\n\u001b[0;32m   2359\u001b[0m \u001b[38;5;124;03m    into a list of qubits.\u001b[39;00m\n\u001b[1;32m   (...)\u001b[0m\n\u001b[0;32m   2365\u001b[0m \u001b[38;5;124;03m        The resolved instances of the qubits.\u001b[39;00m\n\u001b[0;32m   2366\u001b[0m \u001b[38;5;124;03m    \"\"\"\u001b[39;00m\n\u001b[1;32m-> 2367\u001b[0m     \u001b[38;5;28;01mreturn\u001b[39;00m \u001b[43m_bit_argument_conversion\u001b[49m\u001b[43m(\u001b[49m\n\u001b[0;32m   2368\u001b[0m \u001b[43m        \u001b[49m\u001b[43mqubit_representation\u001b[49m\u001b[43m,\u001b[49m\u001b[43m \u001b[49m\u001b[38;5;28;43mself\u001b[39;49m\u001b[38;5;241;43m.\u001b[39;49m\u001b[43mqubits\u001b[49m\u001b[43m,\u001b[49m\u001b[43m \u001b[49m\u001b[38;5;28;43mself\u001b[39;49m\u001b[38;5;241;43m.\u001b[39;49m\u001b[43m_qubit_indices\u001b[49m\u001b[43m,\u001b[49m\u001b[43m \u001b[49m\u001b[43mQubit\u001b[49m\n\u001b[0;32m   2369\u001b[0m \u001b[43m    \u001b[49m\u001b[43m)\u001b[49m\n",
      "File \u001b[1;32mc:\\malik inam\\QC Environment\\.venv\\Lib\\site-packages\\qiskit\\circuit\\quantumcircuit.py:6751\u001b[0m, in \u001b[0;36m_bit_argument_conversion\u001b[1;34m(specifier, bit_sequence, bit_set, type_)\u001b[0m\n\u001b[0;32m   6749\u001b[0m         \u001b[38;5;28;01mreturn\u001b[39;00m [bit_sequence[specifier]]\n\u001b[0;32m   6750\u001b[0m     \u001b[38;5;28;01mexcept\u001b[39;00m \u001b[38;5;167;01mIndexError\u001b[39;00m \u001b[38;5;28;01mas\u001b[39;00m ex:\n\u001b[1;32m-> 6751\u001b[0m         \u001b[38;5;28;01mraise\u001b[39;00m CircuitError(\n\u001b[0;32m   6752\u001b[0m             \u001b[38;5;124mf\u001b[39m\u001b[38;5;124m\"\u001b[39m\u001b[38;5;124mIndex \u001b[39m\u001b[38;5;132;01m{\u001b[39;00mspecifier\u001b[38;5;132;01m}\u001b[39;00m\u001b[38;5;124m out of range for size \u001b[39m\u001b[38;5;132;01m{\u001b[39;00m\u001b[38;5;28mlen\u001b[39m(bit_sequence)\u001b[38;5;132;01m}\u001b[39;00m\u001b[38;5;124m.\u001b[39m\u001b[38;5;124m\"\u001b[39m\n\u001b[0;32m   6753\u001b[0m         ) \u001b[38;5;28;01mfrom\u001b[39;00m \u001b[38;5;21;01mex\u001b[39;00m\n\u001b[0;32m   6754\u001b[0m \u001b[38;5;66;03m# Slices can't raise IndexError - they just return an empty list.\u001b[39;00m\n\u001b[0;32m   6755\u001b[0m \u001b[38;5;28;01mif\u001b[39;00m \u001b[38;5;28misinstance\u001b[39m(specifier, \u001b[38;5;28mslice\u001b[39m):\n",
      "\u001b[1;31mCircuitError\u001b[0m: 'Index 16 out of range for size 16.'"
     ]
    }
   ],
   "source": [
    "# Create graph\n",
    "G_australia = nx.Graph()\n",
    "G_australia.add_edges_from([(0, 1), (0, 2), (1, 3), (2, 4), (3, 5), (4, 6), (5, 7)])\n",
    "\n",
    "G_spain = nx.Graph()\n",
    "# Add edges for Spain's 17 autonomous communities\n",
    "\n",
    "# Calculate valid 3-colorings\n",
    "valid_colorings_australia = map_coloring(G_australia, 3)\n",
    "valid_colorings_spain = map_coloring(G_spain, 3)\n",
    "\n",
    "# Run Grover's search\n",
    "counts_australia_oracle = grover_search_oracle(G_australia, 3)\n",
    "counts_spain_oracle = grover_search_oracle(G_spain, 3)\n",
    "\n",
    "counts_australia_modified = grover_search_modified(G_australia, 3)\n",
    "counts_spain_modified = grover_search_modified(G_spain, 3)\n",
    "\n",
    "print(\"Valid 3-colorings Australia:\", len(valid_colorings_australia))\n",
    "print(\"Valid 3-colorings Spain:\", len(valid_colorings_spain))\n",
    "\n",
    "print(\"Grover Search Counts (Oracle) Australia:\", counts_australia_oracle)\n",
    "print(\"Grover Search Counts (Modified) Australia:\", counts_australia_modified)\n",
    "\n",
    "print(\"Grover Search Counts (Oracle) Spain:\", counts_spain_oracle)\n",
    "print(\"Grover Search Counts (Modified) Spain:\", counts_spain_modified)"
   ]
  },
  {
   "cell_type": "code",
   "execution_count": null,
   "metadata": {},
   "outputs": [],
   "source": []
  },
  {
   "cell_type": "code",
   "execution_count": null,
   "metadata": {},
   "outputs": [],
   "source": []
  }
 ],
 "metadata": {
  "kernelspec": {
   "display_name": ".venv",
   "language": "python",
   "name": "python3"
  },
  "language_info": {
   "codemirror_mode": {
    "name": "ipython",
    "version": 3
   },
   "file_extension": ".py",
   "mimetype": "text/x-python",
   "name": "python",
   "nbconvert_exporter": "python",
   "pygments_lexer": "ipython3",
   "version": "3.12.5"
  }
 },
 "nbformat": 4,
 "nbformat_minor": 2
}
